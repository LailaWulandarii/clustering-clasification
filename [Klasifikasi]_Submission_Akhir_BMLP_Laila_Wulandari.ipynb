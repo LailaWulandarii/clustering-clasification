{
  "nbformat": 4,
  "nbformat_minor": 0,
  "metadata": {
    "colab": {
      "provenance": []
    },
    "kernelspec": {
      "name": "python3",
      "display_name": "Python 3"
    },
    "language_info": {
      "name": "python"
    }
  },
  "cells": [
    {
      "cell_type": "markdown",
      "source": [
        "# **1. Import Library**"
      ],
      "metadata": {
        "id": "fKADPWcFKlj3"
      }
    },
    {
      "cell_type": "markdown",
      "source": [
        "Pada tahap ini, Anda perlu mengimpor beberapa pustaka (library) Python yang dibutuhkan untuk analisis data dan pembangunan model machine learning."
      ],
      "metadata": {
        "id": "LgA3ERnVn84N"
      }
    },
    {
      "cell_type": "code",
      "source": [
        "import pandas as pd\n",
        "import numpy as np\n",
        "from sklearn.model_selection import train_test_split\n",
        "from sklearn.metrics import accuracy_score, classification_report, confusion_matrix\n",
        "from scipy.stats.mstats import winsorize\n",
        "from sklearn.preprocessing import MinMaxScaler, StandardScaler, LabelEncoder\n",
        "from sklearn.tree import DecisionTreeClassifier\n",
        "from sklearn.neighbors import KNeighborsClassifier\n",
        "from sklearn.model_selection import GridSearchCV\n",
        "from imblearn.over_sampling import SMOTE"
      ],
      "metadata": {
        "id": "BlmvjLY9M4Yj"
      },
      "execution_count": 187,
      "outputs": []
    },
    {
      "cell_type": "markdown",
      "source": [
        "\n",
        "# **2. Memuat Dataset dari Hasil Clustering**"
      ],
      "metadata": {
        "id": "f3YIEnAFKrKL"
      }
    },
    {
      "cell_type": "markdown",
      "source": [
        "Memuat dataset hasil clustering dari file CSV ke dalam variabel DataFrame."
      ],
      "metadata": {
        "id": "Ey3ItwTen_7E"
      }
    },
    {
      "cell_type": "code",
      "source": [
        "health_df = pd.read_csv(\"https://raw.githubusercontent.com/LailaWulandarii/BMLP_Dataset/refs/heads/main/health_data_results.csv\")\n",
        "health_df.head()"
      ],
      "metadata": {
        "id": "GHCGNTyrM5fS",
        "colab": {
          "base_uri": "https://localhost:8080/",
          "height": 206
        },
        "outputId": "161edbbc-eeec-4aa2-cc6d-b083f8395c64"
      },
      "execution_count": 188,
      "outputs": [
        {
          "output_type": "execute_result",
          "data": {
            "text/plain": [
              "   gender   age  hypertension  heart_disease ever_married      work_type  \\\n",
              "0    Male  67.0             0              1          Yes        Private   \n",
              "1  Female  61.0             0              0          Yes  Self-employed   \n",
              "2    Male  79.0             0              1          Yes        Private   \n",
              "3  Female  49.0             0              0          Yes        Private   \n",
              "4  Female  79.0             1              0          Yes  Self-employed   \n",
              "\n",
              "  Residence_type  avg_glucose_level   bmi   smoking_status  Cluster  \n",
              "0          Urban             216.38  36.6  formerly smoked        0  \n",
              "1          Rural             202.21  28.1     never smoked        0  \n",
              "2          Rural             105.92  32.5     never smoked        0  \n",
              "3          Urban             171.23  34.4           smokes        2  \n",
              "4          Rural             174.12  24.0     never smoked        0  "
            ],
            "text/html": [
              "\n",
              "  <div id=\"df-1bb186b5-6aa4-4022-953b-aa30c119f59c\" class=\"colab-df-container\">\n",
              "    <div>\n",
              "<style scoped>\n",
              "    .dataframe tbody tr th:only-of-type {\n",
              "        vertical-align: middle;\n",
              "    }\n",
              "\n",
              "    .dataframe tbody tr th {\n",
              "        vertical-align: top;\n",
              "    }\n",
              "\n",
              "    .dataframe thead th {\n",
              "        text-align: right;\n",
              "    }\n",
              "</style>\n",
              "<table border=\"1\" class=\"dataframe\">\n",
              "  <thead>\n",
              "    <tr style=\"text-align: right;\">\n",
              "      <th></th>\n",
              "      <th>gender</th>\n",
              "      <th>age</th>\n",
              "      <th>hypertension</th>\n",
              "      <th>heart_disease</th>\n",
              "      <th>ever_married</th>\n",
              "      <th>work_type</th>\n",
              "      <th>Residence_type</th>\n",
              "      <th>avg_glucose_level</th>\n",
              "      <th>bmi</th>\n",
              "      <th>smoking_status</th>\n",
              "      <th>Cluster</th>\n",
              "    </tr>\n",
              "  </thead>\n",
              "  <tbody>\n",
              "    <tr>\n",
              "      <th>0</th>\n",
              "      <td>Male</td>\n",
              "      <td>67.0</td>\n",
              "      <td>0</td>\n",
              "      <td>1</td>\n",
              "      <td>Yes</td>\n",
              "      <td>Private</td>\n",
              "      <td>Urban</td>\n",
              "      <td>216.38</td>\n",
              "      <td>36.6</td>\n",
              "      <td>formerly smoked</td>\n",
              "      <td>0</td>\n",
              "    </tr>\n",
              "    <tr>\n",
              "      <th>1</th>\n",
              "      <td>Female</td>\n",
              "      <td>61.0</td>\n",
              "      <td>0</td>\n",
              "      <td>0</td>\n",
              "      <td>Yes</td>\n",
              "      <td>Self-employed</td>\n",
              "      <td>Rural</td>\n",
              "      <td>202.21</td>\n",
              "      <td>28.1</td>\n",
              "      <td>never smoked</td>\n",
              "      <td>0</td>\n",
              "    </tr>\n",
              "    <tr>\n",
              "      <th>2</th>\n",
              "      <td>Male</td>\n",
              "      <td>79.0</td>\n",
              "      <td>0</td>\n",
              "      <td>1</td>\n",
              "      <td>Yes</td>\n",
              "      <td>Private</td>\n",
              "      <td>Rural</td>\n",
              "      <td>105.92</td>\n",
              "      <td>32.5</td>\n",
              "      <td>never smoked</td>\n",
              "      <td>0</td>\n",
              "    </tr>\n",
              "    <tr>\n",
              "      <th>3</th>\n",
              "      <td>Female</td>\n",
              "      <td>49.0</td>\n",
              "      <td>0</td>\n",
              "      <td>0</td>\n",
              "      <td>Yes</td>\n",
              "      <td>Private</td>\n",
              "      <td>Urban</td>\n",
              "      <td>171.23</td>\n",
              "      <td>34.4</td>\n",
              "      <td>smokes</td>\n",
              "      <td>2</td>\n",
              "    </tr>\n",
              "    <tr>\n",
              "      <th>4</th>\n",
              "      <td>Female</td>\n",
              "      <td>79.0</td>\n",
              "      <td>1</td>\n",
              "      <td>0</td>\n",
              "      <td>Yes</td>\n",
              "      <td>Self-employed</td>\n",
              "      <td>Rural</td>\n",
              "      <td>174.12</td>\n",
              "      <td>24.0</td>\n",
              "      <td>never smoked</td>\n",
              "      <td>0</td>\n",
              "    </tr>\n",
              "  </tbody>\n",
              "</table>\n",
              "</div>\n",
              "    <div class=\"colab-df-buttons\">\n",
              "\n",
              "  <div class=\"colab-df-container\">\n",
              "    <button class=\"colab-df-convert\" onclick=\"convertToInteractive('df-1bb186b5-6aa4-4022-953b-aa30c119f59c')\"\n",
              "            title=\"Convert this dataframe to an interactive table.\"\n",
              "            style=\"display:none;\">\n",
              "\n",
              "  <svg xmlns=\"http://www.w3.org/2000/svg\" height=\"24px\" viewBox=\"0 -960 960 960\">\n",
              "    <path d=\"M120-120v-720h720v720H120Zm60-500h600v-160H180v160Zm220 220h160v-160H400v160Zm0 220h160v-160H400v160ZM180-400h160v-160H180v160Zm440 0h160v-160H620v160ZM180-180h160v-160H180v160Zm440 0h160v-160H620v160Z\"/>\n",
              "  </svg>\n",
              "    </button>\n",
              "\n",
              "  <style>\n",
              "    .colab-df-container {\n",
              "      display:flex;\n",
              "      gap: 12px;\n",
              "    }\n",
              "\n",
              "    .colab-df-convert {\n",
              "      background-color: #E8F0FE;\n",
              "      border: none;\n",
              "      border-radius: 50%;\n",
              "      cursor: pointer;\n",
              "      display: none;\n",
              "      fill: #1967D2;\n",
              "      height: 32px;\n",
              "      padding: 0 0 0 0;\n",
              "      width: 32px;\n",
              "    }\n",
              "\n",
              "    .colab-df-convert:hover {\n",
              "      background-color: #E2EBFA;\n",
              "      box-shadow: 0px 1px 2px rgba(60, 64, 67, 0.3), 0px 1px 3px 1px rgba(60, 64, 67, 0.15);\n",
              "      fill: #174EA6;\n",
              "    }\n",
              "\n",
              "    .colab-df-buttons div {\n",
              "      margin-bottom: 4px;\n",
              "    }\n",
              "\n",
              "    [theme=dark] .colab-df-convert {\n",
              "      background-color: #3B4455;\n",
              "      fill: #D2E3FC;\n",
              "    }\n",
              "\n",
              "    [theme=dark] .colab-df-convert:hover {\n",
              "      background-color: #434B5C;\n",
              "      box-shadow: 0px 1px 3px 1px rgba(0, 0, 0, 0.15);\n",
              "      filter: drop-shadow(0px 1px 2px rgba(0, 0, 0, 0.3));\n",
              "      fill: #FFFFFF;\n",
              "    }\n",
              "  </style>\n",
              "\n",
              "    <script>\n",
              "      const buttonEl =\n",
              "        document.querySelector('#df-1bb186b5-6aa4-4022-953b-aa30c119f59c button.colab-df-convert');\n",
              "      buttonEl.style.display =\n",
              "        google.colab.kernel.accessAllowed ? 'block' : 'none';\n",
              "\n",
              "      async function convertToInteractive(key) {\n",
              "        const element = document.querySelector('#df-1bb186b5-6aa4-4022-953b-aa30c119f59c');\n",
              "        const dataTable =\n",
              "          await google.colab.kernel.invokeFunction('convertToInteractive',\n",
              "                                                    [key], {});\n",
              "        if (!dataTable) return;\n",
              "\n",
              "        const docLinkHtml = 'Like what you see? Visit the ' +\n",
              "          '<a target=\"_blank\" href=https://colab.research.google.com/notebooks/data_table.ipynb>data table notebook</a>'\n",
              "          + ' to learn more about interactive tables.';\n",
              "        element.innerHTML = '';\n",
              "        dataTable['output_type'] = 'display_data';\n",
              "        await google.colab.output.renderOutput(dataTable, element);\n",
              "        const docLink = document.createElement('div');\n",
              "        docLink.innerHTML = docLinkHtml;\n",
              "        element.appendChild(docLink);\n",
              "      }\n",
              "    </script>\n",
              "  </div>\n",
              "\n",
              "\n",
              "<div id=\"df-2fa4a28e-dca8-4d51-a260-bff46a77e2a3\">\n",
              "  <button class=\"colab-df-quickchart\" onclick=\"quickchart('df-2fa4a28e-dca8-4d51-a260-bff46a77e2a3')\"\n",
              "            title=\"Suggest charts\"\n",
              "            style=\"display:none;\">\n",
              "\n",
              "<svg xmlns=\"http://www.w3.org/2000/svg\" height=\"24px\"viewBox=\"0 0 24 24\"\n",
              "     width=\"24px\">\n",
              "    <g>\n",
              "        <path d=\"M19 3H5c-1.1 0-2 .9-2 2v14c0 1.1.9 2 2 2h14c1.1 0 2-.9 2-2V5c0-1.1-.9-2-2-2zM9 17H7v-7h2v7zm4 0h-2V7h2v10zm4 0h-2v-4h2v4z\"/>\n",
              "    </g>\n",
              "</svg>\n",
              "  </button>\n",
              "\n",
              "<style>\n",
              "  .colab-df-quickchart {\n",
              "      --bg-color: #E8F0FE;\n",
              "      --fill-color: #1967D2;\n",
              "      --hover-bg-color: #E2EBFA;\n",
              "      --hover-fill-color: #174EA6;\n",
              "      --disabled-fill-color: #AAA;\n",
              "      --disabled-bg-color: #DDD;\n",
              "  }\n",
              "\n",
              "  [theme=dark] .colab-df-quickchart {\n",
              "      --bg-color: #3B4455;\n",
              "      --fill-color: #D2E3FC;\n",
              "      --hover-bg-color: #434B5C;\n",
              "      --hover-fill-color: #FFFFFF;\n",
              "      --disabled-bg-color: #3B4455;\n",
              "      --disabled-fill-color: #666;\n",
              "  }\n",
              "\n",
              "  .colab-df-quickchart {\n",
              "    background-color: var(--bg-color);\n",
              "    border: none;\n",
              "    border-radius: 50%;\n",
              "    cursor: pointer;\n",
              "    display: none;\n",
              "    fill: var(--fill-color);\n",
              "    height: 32px;\n",
              "    padding: 0;\n",
              "    width: 32px;\n",
              "  }\n",
              "\n",
              "  .colab-df-quickchart:hover {\n",
              "    background-color: var(--hover-bg-color);\n",
              "    box-shadow: 0 1px 2px rgba(60, 64, 67, 0.3), 0 1px 3px 1px rgba(60, 64, 67, 0.15);\n",
              "    fill: var(--button-hover-fill-color);\n",
              "  }\n",
              "\n",
              "  .colab-df-quickchart-complete:disabled,\n",
              "  .colab-df-quickchart-complete:disabled:hover {\n",
              "    background-color: var(--disabled-bg-color);\n",
              "    fill: var(--disabled-fill-color);\n",
              "    box-shadow: none;\n",
              "  }\n",
              "\n",
              "  .colab-df-spinner {\n",
              "    border: 2px solid var(--fill-color);\n",
              "    border-color: transparent;\n",
              "    border-bottom-color: var(--fill-color);\n",
              "    animation:\n",
              "      spin 1s steps(1) infinite;\n",
              "  }\n",
              "\n",
              "  @keyframes spin {\n",
              "    0% {\n",
              "      border-color: transparent;\n",
              "      border-bottom-color: var(--fill-color);\n",
              "      border-left-color: var(--fill-color);\n",
              "    }\n",
              "    20% {\n",
              "      border-color: transparent;\n",
              "      border-left-color: var(--fill-color);\n",
              "      border-top-color: var(--fill-color);\n",
              "    }\n",
              "    30% {\n",
              "      border-color: transparent;\n",
              "      border-left-color: var(--fill-color);\n",
              "      border-top-color: var(--fill-color);\n",
              "      border-right-color: var(--fill-color);\n",
              "    }\n",
              "    40% {\n",
              "      border-color: transparent;\n",
              "      border-right-color: var(--fill-color);\n",
              "      border-top-color: var(--fill-color);\n",
              "    }\n",
              "    60% {\n",
              "      border-color: transparent;\n",
              "      border-right-color: var(--fill-color);\n",
              "    }\n",
              "    80% {\n",
              "      border-color: transparent;\n",
              "      border-right-color: var(--fill-color);\n",
              "      border-bottom-color: var(--fill-color);\n",
              "    }\n",
              "    90% {\n",
              "      border-color: transparent;\n",
              "      border-bottom-color: var(--fill-color);\n",
              "    }\n",
              "  }\n",
              "</style>\n",
              "\n",
              "  <script>\n",
              "    async function quickchart(key) {\n",
              "      const quickchartButtonEl =\n",
              "        document.querySelector('#' + key + ' button');\n",
              "      quickchartButtonEl.disabled = true;  // To prevent multiple clicks.\n",
              "      quickchartButtonEl.classList.add('colab-df-spinner');\n",
              "      try {\n",
              "        const charts = await google.colab.kernel.invokeFunction(\n",
              "            'suggestCharts', [key], {});\n",
              "      } catch (error) {\n",
              "        console.error('Error during call to suggestCharts:', error);\n",
              "      }\n",
              "      quickchartButtonEl.classList.remove('colab-df-spinner');\n",
              "      quickchartButtonEl.classList.add('colab-df-quickchart-complete');\n",
              "    }\n",
              "    (() => {\n",
              "      let quickchartButtonEl =\n",
              "        document.querySelector('#df-2fa4a28e-dca8-4d51-a260-bff46a77e2a3 button');\n",
              "      quickchartButtonEl.style.display =\n",
              "        google.colab.kernel.accessAllowed ? 'block' : 'none';\n",
              "    })();\n",
              "  </script>\n",
              "</div>\n",
              "\n",
              "    </div>\n",
              "  </div>\n"
            ],
            "application/vnd.google.colaboratory.intrinsic+json": {
              "type": "dataframe",
              "variable_name": "health_df",
              "summary": "{\n  \"name\": \"health_df\",\n  \"rows\": 5110,\n  \"fields\": [\n    {\n      \"column\": \"gender\",\n      \"properties\": {\n        \"dtype\": \"category\",\n        \"num_unique_values\": 3,\n        \"samples\": [\n          \"Male\",\n          \"Female\",\n          \"Other\"\n        ],\n        \"semantic_type\": \"\",\n        \"description\": \"\"\n      }\n    },\n    {\n      \"column\": \"age\",\n      \"properties\": {\n        \"dtype\": \"number\",\n        \"std\": 22.233780726144023,\n        \"min\": 5.0,\n        \"max\": 79.0,\n        \"num_unique_values\": 75,\n        \"samples\": [\n          74.0,\n          41.0,\n          64.0\n        ],\n        \"semantic_type\": \"\",\n        \"description\": \"\"\n      }\n    },\n    {\n      \"column\": \"hypertension\",\n      \"properties\": {\n        \"dtype\": \"number\",\n        \"std\": 0,\n        \"min\": 0,\n        \"max\": 1,\n        \"num_unique_values\": 2,\n        \"samples\": [\n          1,\n          0\n        ],\n        \"semantic_type\": \"\",\n        \"description\": \"\"\n      }\n    },\n    {\n      \"column\": \"heart_disease\",\n      \"properties\": {\n        \"dtype\": \"number\",\n        \"std\": 0,\n        \"min\": 0,\n        \"max\": 1,\n        \"num_unique_values\": 2,\n        \"samples\": [\n          0,\n          1\n        ],\n        \"semantic_type\": \"\",\n        \"description\": \"\"\n      }\n    },\n    {\n      \"column\": \"ever_married\",\n      \"properties\": {\n        \"dtype\": \"category\",\n        \"num_unique_values\": 2,\n        \"samples\": [\n          \"No\",\n          \"Yes\"\n        ],\n        \"semantic_type\": \"\",\n        \"description\": \"\"\n      }\n    },\n    {\n      \"column\": \"work_type\",\n      \"properties\": {\n        \"dtype\": \"category\",\n        \"num_unique_values\": 5,\n        \"samples\": [\n          \"Self-employed\",\n          \"Never_worked\"\n        ],\n        \"semantic_type\": \"\",\n        \"description\": \"\"\n      }\n    },\n    {\n      \"column\": \"Residence_type\",\n      \"properties\": {\n        \"dtype\": \"category\",\n        \"num_unique_values\": 2,\n        \"samples\": [\n          \"Rural\",\n          \"Urban\"\n        ],\n        \"semantic_type\": \"\",\n        \"description\": \"\"\n      }\n    },\n    {\n      \"column\": \"avg_glucose_level\",\n      \"properties\": {\n        \"dtype\": \"number\",\n        \"std\": 43.01440897262915,\n        \"min\": 60.7,\n        \"max\": 216.38,\n        \"num_unique_values\": 3524,\n        \"samples\": [\n          123.1,\n          215.81\n        ],\n        \"semantic_type\": \"\",\n        \"description\": \"\"\n      }\n    },\n    {\n      \"column\": \"bmi\",\n      \"properties\": {\n        \"dtype\": \"number\",\n        \"std\": 6.696967390357708,\n        \"min\": 17.7,\n        \"max\": 42.7,\n        \"num_unique_values\": 251,\n        \"samples\": [\n          18.6,\n          27.4\n        ],\n        \"semantic_type\": \"\",\n        \"description\": \"\"\n      }\n    },\n    {\n      \"column\": \"smoking_status\",\n      \"properties\": {\n        \"dtype\": \"category\",\n        \"num_unique_values\": 4,\n        \"samples\": [\n          \"never smoked\",\n          \"Unknown\"\n        ],\n        \"semantic_type\": \"\",\n        \"description\": \"\"\n      }\n    },\n    {\n      \"column\": \"Cluster\",\n      \"properties\": {\n        \"dtype\": \"number\",\n        \"std\": 1,\n        \"min\": 0,\n        \"max\": 3,\n        \"num_unique_values\": 4,\n        \"samples\": [\n          2,\n          1\n        ],\n        \"semantic_type\": \"\",\n        \"description\": \"\"\n      }\n    }\n  ]\n}"
            }
          },
          "metadata": {},
          "execution_count": 188
        }
      ]
    },
    {
      "cell_type": "code",
      "source": [
        "#Preprocessing Data\n",
        "\n",
        "#Menampilkan data sebelum preprocessing\n",
        "print(\"\\nData Sebelum Preprocessing:\")\n",
        "print(health_df.head())\n",
        "\n",
        "#Mengubah kolom boolean menjadi integer\n",
        "health_df['hypertension'] = health_df['hypertension'].astype(int)\n",
        "health_df['heart_disease'] = health_df['heart_disease'].astype(int)\n",
        "\n",
        "#Encoding fitur kategorikal menggunakan mapping\n",
        "mapping_dict = {\n",
        "    'gender': {'Male': 0, 'Female': 1, 'Other': 2},\n",
        "    'ever_married': {'No': 0, 'Yes': 1},\n",
        "    'work_type': {'children': 0, 'Govt_job': 1, 'Never_worked': 2, 'Private': 3, 'Self-employed': 4},\n",
        "    'Residence_type': {'Rural': 0, 'Urban': 1},\n",
        "    'smoking_status': {'formerly smoked': 0, 'never smoked': 1, 'smokes': 2, 'Unknown': 3}\n",
        "}\n",
        "\n",
        "for col, mapping in mapping_dict.items():\n",
        "    health_df[col] = health_df[col].map(mapping)\n",
        "\n",
        "#Menggunakan Winsorization untuk menangani outlier\n",
        "numerical_features = ['age', 'avg_glucose_level', 'bmi']\n",
        "for col in numerical_features:\n",
        "    #mengganti nilai di luar batas 5% dan 95% dengan nilai kuantil 5% dan 95%\n",
        "    health_df[col] = winsorize(health_df[col], limits=[0.05, 0.05])\n",
        "\n",
        "#Standarisasi data dengan StandardScaler\n",
        "scaler = StandardScaler()\n",
        "health_df.loc[:, numerical_features] = scaler.fit_transform(health_df[numerical_features])\n",
        "\n",
        "\n",
        "#Menampilkan data setelah preprocessing\n",
        "print(\"\\nData Setelah Preprocessing (Standarisasi dan Winsorization):\")\n",
        "print(health_df.head())\n",
        "\n",
        "#Meninjau informasi lengkap dataset setelah preprocessing\n",
        "print(\"\\nInformasi lengkap dataset:\")\n",
        "print(health_df.info())\n"
      ],
      "metadata": {
        "colab": {
          "base_uri": "https://localhost:8080/"
        },
        "id": "YVhBhPmS-4JR",
        "outputId": "238b2bac-834c-4e69-ca64-05a573a3e390"
      },
      "execution_count": 189,
      "outputs": [
        {
          "output_type": "stream",
          "name": "stdout",
          "text": [
            "\n",
            "Data Sebelum Preprocessing:\n",
            "   gender   age  hypertension  heart_disease ever_married      work_type  \\\n",
            "0    Male  67.0             0              1          Yes        Private   \n",
            "1  Female  61.0             0              0          Yes  Self-employed   \n",
            "2    Male  79.0             0              1          Yes        Private   \n",
            "3  Female  49.0             0              0          Yes        Private   \n",
            "4  Female  79.0             1              0          Yes  Self-employed   \n",
            "\n",
            "  Residence_type  avg_glucose_level   bmi   smoking_status  Cluster  \n",
            "0          Urban             216.38  36.6  formerly smoked        0  \n",
            "1          Rural             202.21  28.1     never smoked        0  \n",
            "2          Rural             105.92  32.5     never smoked        0  \n",
            "3          Urban             171.23  34.4           smokes        2  \n",
            "4          Rural             174.12  24.0     never smoked        0  \n",
            "\n",
            "Data Setelah Preprocessing (Standarisasi dan Winsorization):\n",
            "   gender       age  hypertension  heart_disease  ever_married  work_type  \\\n",
            "0       0  1.065847             0              1             1          3   \n",
            "1       1  0.795961             0              0             1          4   \n",
            "2       0  1.605620             0              1             1          3   \n",
            "3       1  0.256189             0              0             1          3   \n",
            "4       1  1.605620             1              0             1          4   \n",
            "\n",
            "   Residence_type  avg_glucose_level       bmi  smoking_status  Cluster  \n",
            "0               1           2.577516  1.188594               0        0  \n",
            "1               0           2.248059 -0.080761               1        0  \n",
            "2               0           0.009288  0.576317               1        0  \n",
            "3               1           1.527765  0.860055               2        2  \n",
            "4               0           1.594958 -0.693039               1        0  \n",
            "\n",
            "Informasi lengkap dataset:\n",
            "<class 'pandas.core.frame.DataFrame'>\n",
            "RangeIndex: 5110 entries, 0 to 5109\n",
            "Data columns (total 11 columns):\n",
            " #   Column             Non-Null Count  Dtype  \n",
            "---  ------             --------------  -----  \n",
            " 0   gender             5110 non-null   int64  \n",
            " 1   age                5110 non-null   float64\n",
            " 2   hypertension       5110 non-null   int64  \n",
            " 3   heart_disease      5110 non-null   int64  \n",
            " 4   ever_married       5110 non-null   int64  \n",
            " 5   work_type          5110 non-null   int64  \n",
            " 6   Residence_type     5110 non-null   int64  \n",
            " 7   avg_glucose_level  5110 non-null   float64\n",
            " 8   bmi                5110 non-null   float64\n",
            " 9   smoking_status     5110 non-null   int64  \n",
            " 10  Cluster            5110 non-null   int64  \n",
            "dtypes: float64(3), int64(8)\n",
            "memory usage: 439.3 KB\n",
            "None\n"
          ]
        }
      ]
    },
    {
      "cell_type": "markdown",
      "source": [
        "**Preprocessing Data**\n",
        "\n",
        "Pada tahap ini dilakukan beberapa hal sebagai berikut:\n",
        "1. Mengubah kolom boolean (hypertension, heart_disease) menjadi format numerik (0/1) untuk mempermudah analisis.\n",
        "2. Melakukan encoding untuk fitur kategorikal menggunakan Mappping, seperti gender, ever_married, work_type, Residence_type, dan smoking_status, sehingga data berubah menjadi angka (0, 1, 2, dst.).\n",
        "3. Menangani missing values dengan mengisi nilai kosong pada kolom bmi menggunakan nilai median agar distribusi data tetap konsisten.\n",
        "4. Mengatasi outlier menggunakan Winsorization pada kolom numerik (age, avg_glucose_level, bmi), mengganti nilai ekstrem di luar kuantil 5% dan 95% untuk mengurangi efek negatif dari data ekstrem.\n",
        "5. Melakukan standarisasi pada data numerik (age, avg_glucose_level, bmi) menggunakan StandardScaler untuk memastikan data terdistribusi dengan rata-rata 0 dan standar deviasi 1.\n",
        "\n",
        "Tahap ini dilakukan agar memastikan data siap digunakan untuk klasifikasi."
      ],
      "metadata": {
        "id": "G8Sgh1Uv0oBB"
      }
    },
    {
      "cell_type": "markdown",
      "source": [
        "# **3. Data Splitting**"
      ],
      "metadata": {
        "id": "KkPem5eWL2UP"
      }
    },
    {
      "cell_type": "markdown",
      "source": [
        "Tahap Data Splitting bertujuan untuk memisahkan dataset menjadi dua bagian: data latih (training set) dan data uji (test set)."
      ],
      "metadata": {
        "id": "YYj1rl_JNI9Y"
      }
    },
    {
      "cell_type": "code",
      "source": [
        "#Data Splitting\n",
        "\n",
        "#Memilih fitur yang akan digunakan\n",
        "selected_features = ['Residence_type', 'gender', 'heart_disease', 'hypertension', 'work_type', ]\n",
        "X = health_df[selected_features]\n",
        "y = health_df['Cluster']\n",
        "\n",
        "#Memeriksa dimensi fitur dan label\n",
        "print(\"Dimensi fitur (X):\", X.shape)\n",
        "print(\"Dimensi label (y):\", y.shape)\n",
        "\n",
        "#Membagi dataset menjadi data latih dan data uji\n",
        "X_train, X_test, y_train, y_test = train_test_split(X, y, test_size=0.2, random_state=42)\n",
        "\n",
        "#Menampilkan ukuran data latih dan data uji\n",
        "print(f\"Ukuran data latih: {X_train.shape}\")\n",
        "print(f\"Ukuran data uji: {X_test.shape}\")\n",
        "\n",
        "#Memastikan tidak ada tumpang tindih antara data latih dan data uji\n",
        "overlap = set(X_train.index).intersection(set(X_test.index))\n",
        "print(\"Jumlah tumpang tindih antara data latih dan uji:\", len(overlap))\n",
        "\n",
        "#Resampling data latih menggunakan SMOTE\n",
        "smote = SMOTE(random_state=42)\n",
        "X_train_resampled, y_train_resampled = smote.fit_resample(X_train, y_train)\n",
        "\n",
        "print(\"Distribusi label setelah SMOTE:\", dict(pd.Series(y_train_resampled).value_counts()))\n"
      ],
      "metadata": {
        "id": "OubAW-7ONKVj",
        "colab": {
          "base_uri": "https://localhost:8080/"
        },
        "outputId": "2ffe504c-e75e-41aa-b0eb-9f87a530435b"
      },
      "execution_count": 190,
      "outputs": [
        {
          "output_type": "stream",
          "name": "stdout",
          "text": [
            "Dimensi fitur (X): (5110, 5)\n",
            "Dimensi label (y): (5110,)\n",
            "Ukuran data latih: (4088, 5)\n",
            "Ukuran data uji: (1022, 5)\n",
            "Jumlah tumpang tindih antara data latih dan uji: 0\n",
            "Distribusi label setelah SMOTE: {0: np.int64(1817), 2: np.int64(1817), 3: np.int64(1817), 1: np.int64(1817)}\n"
          ]
        }
      ]
    },
    {
      "cell_type": "markdown",
      "source": [
        "**Data Splitting**\n",
        "1. Dataset dibagi menggunakan fitur Residence_type, gender, heart_disease, hypertension, dan work_type sebagai input, dengan Cluster sebagai label target.\n",
        "\n",
        "2. Data dipisahkan menjadi 80% data latih dan 20% data uji dengan train_test_split dan parameter random_state=42 untuk memastikan pembagian konsisten.\n",
        "\n",
        "3. Dimensi data diverifikasi agar sesuai pembagian, tanpa tumpang tindih antara data latih dan uji, sehingga mencegah kebocoran data.\n",
        "\n",
        "4. Ketidakseimbangan pada label target diatasi dengan **SMOTE**, yang menghasilkan data sintetis untuk kelas minoritas agar distribusi lebih seimbang.\n",
        "\n",
        "5. Dataset yang seimbang diverifikasi untuk memastikan model dapat belajar pola dengan lebih baik sebelum digunakan untuk klasifikasi."
      ],
      "metadata": {
        "id": "OrQ4stk43DJ-"
      }
    },
    {
      "cell_type": "markdown",
      "source": [
        "# **4. Membangun Model Klasifikasi**\n"
      ],
      "metadata": {
        "id": "IVPbB03CMhTT"
      }
    },
    {
      "cell_type": "markdown",
      "source": [
        "## **a. Membangun Model Klasifikasi**"
      ],
      "metadata": {
        "id": "Ned1pL9zMmBK"
      }
    },
    {
      "cell_type": "markdown",
      "source": [
        "Setelah memilih algoritma klasifikasi yang sesuai, langkah selanjutnya adalah melatih model menggunakan data latih.\n",
        "\n",
        "Berikut adalah rekomendasi tahapannya.\n",
        "1. Pilih algoritma klasifikasi yang sesuai, seperti Logistic Regression, Decision Tree, Random Forest, atau K-Nearest Neighbors (KNN).\n",
        "2. Latih model menggunakan data latih."
      ],
      "metadata": {
        "id": "WAWzPOE4Nkti"
      }
    },
    {
      "cell_type": "code",
      "source": [
        "#Membuat dan melatih model KNN\n",
        "knn_model = KNeighborsClassifier(n_neighbors=5)\n",
        "knn_model.fit(X_train, y_train)\n",
        "\n",
        "#Membuat dan melatih model Decision Tree\n",
        "dt_model = DecisionTreeClassifier(random_state=42)\n",
        "dt_model.fit(X_train, y_train)\n",
        "\n",
        "print(\"Model telah dilatih dengan data latih.\")\n"
      ],
      "metadata": {
        "id": "4JYxBe87NLDk",
        "colab": {
          "base_uri": "https://localhost:8080/"
        },
        "outputId": "51c0bed3-2424-41b1-84f7-7e6cd102c885"
      },
      "execution_count": 191,
      "outputs": [
        {
          "output_type": "stream",
          "name": "stdout",
          "text": [
            "Model telah dilatih dengan data latih.\n"
          ]
        }
      ]
    },
    {
      "cell_type": "markdown",
      "source": [
        "**Membangun Model Klasifikasi**\n",
        "1. **KNN**: Model K-Nearest Neighbors dibuat dengan parameter n_neighbors=5 untuk mempertimbangkan lima tetangga terdekat dalam klasifikasi. Model dilatih menggunakan data latih (X_train, y_train) agar siap digunakan untuk prediksi.\n",
        "\n",
        "2. **Decision Tree**: Model Decision Tree diinisialisasi dengan parameter random_state=42 untuk menghasilkan hasil yang konsisten. Model dilatih menggunakan data latih yang sama untuk mempelajari pola klasifikasi."
      ],
      "metadata": {
        "id": "seYoHNY3XU1y"
      }
    },
    {
      "cell_type": "markdown",
      "source": [
        "## **b. Evaluasi Model Klasifikasi**"
      ],
      "metadata": {
        "id": "ergzChZFEL-O"
      }
    },
    {
      "cell_type": "markdown",
      "source": [
        "Berikut adalah **rekomendasi** tahapannya.\n",
        "1. Lakukan prediksi menggunakan data uji.\n",
        "2. Hitung metrik evaluasi seperti Accuracy dan F1-Score (Opsional: Precision dan Recall).\n",
        "3. Buat confusion matrix untuk melihat detail prediksi benar dan salah."
      ],
      "metadata": {
        "id": "zOm68u-7NpLT"
      }
    },
    {
      "cell_type": "code",
      "source": [
        "#Membuat list model untuk evaluasi\n",
        "models = {\n",
        "    \"K-Nearest Neighbors\": knn_model,\n",
        "    \"Decision Tree\": dt_model,\n",
        "}\n",
        "\n",
        "#Mengevaluasi setiap model\n",
        "for model_name, model in models.items():\n",
        "    print(f\"=== {model_name} ===\")\n",
        "    y_pred = model.predict(X_test)\n",
        "    print(\"Akurasi:\", accuracy_score(y_test, y_pred))\n",
        "    print(\"Laporan Klasifikasi:\")\n",
        "    print(classification_report(y_test, y_pred))\n",
        "    print(\"Confusion Matrix:\")\n",
        "    print(confusion_matrix(y_test, y_pred))\n",
        "    print(\"\\n\" + \"=\"*50 + \"\\n\")\n"
      ],
      "metadata": {
        "colab": {
          "base_uri": "https://localhost:8080/"
        },
        "outputId": "baa74687-2742-438d-8dfe-227549b810d2",
        "id": "nEMBADabySk0"
      },
      "execution_count": 193,
      "outputs": [
        {
          "output_type": "stream",
          "name": "stdout",
          "text": [
            "=== K-Nearest Neighbors ===\n",
            "Akurasi: 0.6232876712328768\n",
            "Laporan Klasifikasi:\n",
            "              precision    recall  f1-score   support\n",
            "\n",
            "           0       0.63      0.59      0.61       464\n",
            "           1       0.92      0.87      0.89       157\n",
            "           2       0.40      0.44      0.42       289\n",
            "           3       0.83      0.89      0.86       112\n",
            "\n",
            "    accuracy                           0.62      1022\n",
            "   macro avg       0.69      0.70      0.69      1022\n",
            "weighted avg       0.63      0.62      0.63      1022\n",
            "\n",
            "Confusion Matrix:\n",
            "[[273   0 191   0]\n",
            " [  0 136   0  21]\n",
            " [161   0 128   0]\n",
            " [  0  12   0 100]]\n",
            "\n",
            "==================================================\n",
            "\n",
            "=== Decision Tree ===\n",
            "Akurasi: 0.6839530332681018\n",
            "Laporan Klasifikasi:\n",
            "              precision    recall  f1-score   support\n",
            "\n",
            "           0       0.62      0.99      0.76       464\n",
            "           1       0.92      0.87      0.89       157\n",
            "           2       0.45      0.02      0.03       289\n",
            "           3       0.83      0.89      0.86       112\n",
            "\n",
            "    accuracy                           0.68      1022\n",
            "   macro avg       0.70      0.69      0.64      1022\n",
            "weighted avg       0.64      0.68      0.59      1022\n",
            "\n",
            "Confusion Matrix:\n",
            "[[458   0   6   0]\n",
            " [  0 136   0  21]\n",
            " [284   0   5   0]\n",
            " [  0  12   0 100]]\n",
            "\n",
            "==================================================\n",
            "\n"
          ]
        }
      ]
    },
    {
      "cell_type": "markdown",
      "source": [
        "**Evaluasi Model Klasifikasi**\n",
        "\n",
        "Pada tahap ini dilakukan evaluasi pada masing masing model untuk mengukur performa model **K-Nearest Neighbors (KNN)** dan **Decision Tree (DT)** pada data uji.\n",
        "\n",
        "\n",
        "1.   Pada tahap evaluasi awal, model K-Nearest Neighbors (KNN) mencapai akurasi sebesar 62.3%. Performa model cukup baik pada kelas mayoritas seperti kelas 1 dengan F1-Score sebesar 0.89 dan kelas 3 dengan F1-Score sebesar 0.86. Namun, model menunjukkan kelemahan signifikan pada kelas minoritas, khususnya kelas 2, dengan F1-Score hanya sebesar 0.42, yang mengindikasikan bahwa pola data di kelas ini sulit ditangkap oleh model.\n",
        "\n",
        "\n",
        "2.   Sementara itu, model Decision Tree mencatat akurasi sebesar 68.3%, dengan performa yang relatif lebih baik untuk kelas 2 dibandingkan KNN. Kelas mayoritas seperti kelas 1 dan kelas 3 menunjukkan performa yang baik dengan masing-masing F1-Score sebesar 0.89 dan 0.86. Namun, akurasi keseluruhan untuk Decision Tree lebih rendah dibandingkan KNN, menunjukkan bahwa model ini masih perlu dioptimalkan pada kelas mayoritas dan minoritas untuk mencapai performa yang lebih baik secara keseluruhan."
      ],
      "metadata": {
        "id": "H4_9OwrsXZlz"
      }
    },
    {
      "cell_type": "markdown",
      "source": [
        "## **c. Tuning Model Klasifikasi (Optional)**"
      ],
      "metadata": {
        "id": "ph9yIYDXEPuB"
      }
    },
    {
      "cell_type": "markdown",
      "source": [
        "Gunakan GridSearchCV, RandomizedSearchCV, atau metode lainnya untuk mencari kombinasi hyperparameter terbaik"
      ],
      "metadata": {
        "id": "-Bikx3LINv5e"
      }
    },
    {
      "cell_type": "code",
      "source": [
        "#==========Tuning KNN\n",
        "knn_param_grid = {\n",
        "    'n_neighbors': [3, 5, 7, 9],\n",
        "    'weights': ['uniform', 'distance'],\n",
        "    'metric': ['euclidean', 'manhattan']\n",
        "}\n",
        "\n",
        "#GridSearchCV untuk KNN\n",
        "knn_grid_search = GridSearchCV(KNeighborsClassifier(), knn_param_grid, cv=5, scoring='f1_weighted')\n",
        "knn_grid_search.fit(X_train, y_train)\n",
        "print(\"Best parameters for KNN:\", knn_grid_search.best_params_)\n",
        "\n",
        "#Model terbaik untuk KNN\n",
        "knn_best_model = knn_grid_search.best_estimator_\n",
        "\n",
        "#==========Tuning Decision Tree\n",
        "dt_param_grid = {\n",
        "    'max_depth': [3, 5, 10, None],\n",
        "    'min_samples_split': [2, 5, 10],\n",
        "    'min_samples_leaf': [1, 2, 4],\n",
        "    'criterion': ['gini', 'entropy']\n",
        "}\n",
        "\n",
        "#GridSearchCV untuk Decision Tree\n",
        "dt_grid_search = GridSearchCV(DecisionTreeClassifier(random_state=42), dt_param_grid, cv=5, scoring='f1_weighted')\n",
        "dt_grid_search.fit(X_train, y_train)\n",
        "print(\"Best parameters for Decision Tree:\", dt_grid_search.best_params_)\n",
        "\n",
        "#Model terbaik untuk Decision Tree\n",
        "dt_best_model = dt_grid_search.best_estimator_\n",
        "\n",
        "print(\"\\nModel tuning selesai! Semua model telah mendapatkan parameter terbaik.\")\n"
      ],
      "metadata": {
        "colab": {
          "base_uri": "https://localhost:8080/"
        },
        "id": "28jwhROYios7",
        "outputId": "20374f1f-aff4-4ae3-c698-6838f3f8f8c3"
      },
      "execution_count": 195,
      "outputs": [
        {
          "output_type": "stream",
          "name": "stdout",
          "text": [
            "Best parameters for KNN: {'metric': 'euclidean', 'n_neighbors': 9, 'weights': 'distance'}\n",
            "Best parameters for Decision Tree: {'criterion': 'gini', 'max_depth': 10, 'min_samples_leaf': 1, 'min_samples_split': 5}\n",
            "\n",
            "Model tuning selesai! Semua model telah mendapatkan parameter terbaik.\n"
          ]
        }
      ]
    },
    {
      "cell_type": "markdown",
      "source": [
        "Pada tahap ini dilakukan proses tuning hyperparameter untuk model **K-Nearest Neighbors (KNN)** dan **Decision Tree (DT)** menggunakan GridSearchCV untuk mencari parameter terbaik berdasarkan metrik F1-Score tertimbang.\n",
        "\n",
        "1.   Untuk model **KNN**, parameter yang diuji mencakup jumlah tetangga (n_neighbors), jenis bobot (weights), dan metrik jarak (metric). Hasil tuning menunjukkan kombinasi parameter terbaik sebagai metric='manhattan', n_neighbors=7, dan weights='uniform'. Model terbaik ini disimpan dalam variabel knn_best_model untuk digunakan dalam evaluasi lebih lanjut.\n",
        "\n",
        "2.   Untuk model **Decision Tree**, parameter yang diuji meliputi kedalaman maksimum (max_depth), jumlah sampel minimum untuk split (min_samples_split), jumlah sampel minimum di leaf (min_samples_leaf), serta kriteria pemisahan (criterion). Proses tuning menghasilkan parameter terbaik sebagai criterion='gini', max_depth=None, min_samples_leaf=1, dan min_samples_split=10. Model terbaik disimpan dalam variabel dt_best_model untuk digunakan pada tahap evaluasi berikutnya.\n",
        "\n",
        "Tahap tuning ini memastikan kedua model telah dioptimalkan untuk menghasilkan performa terbaik pada data latih. Model yang telah dituning siap digunakan untuk evaluasi pada data uji. Hasil tuning menunjukkan bahwa parameter terbaik telah diperoleh dan model siap untuk tahap berikutnya."
      ],
      "metadata": {
        "id": "9LQPVmtQ6j32"
      }
    },
    {
      "cell_type": "markdown",
      "source": [
        "## **d. Evaluasi Model Klasifikasi setelah Tuning (Optional)**"
      ],
      "metadata": {
        "id": "hE7pqlEPEYzI"
      }
    },
    {
      "cell_type": "markdown",
      "source": [
        "Berikut adalah rekomendasi tahapannya.\n",
        "1. Gunakan model dengan hyperparameter terbaik.\n",
        "2. Hitung ulang metrik evaluasi untuk melihat apakah ada peningkatan performa."
      ],
      "metadata": {
        "id": "feaPESoeN0zz"
      }
    },
    {
      "cell_type": "code",
      "source": [
        "#==========Evaluasi KNN\n",
        "\n",
        "#Menerapkan parameter terbaik\n",
        "knn_best_model = KNeighborsClassifier(\n",
        "    n_neighbors=9,\n",
        "    weights='distance',\n",
        "    metric='euclidean',\n",
        ")\n",
        "\n",
        "#Melatih model menggunakan data latih\n",
        "knn_best_model.fit(X_train, y_train)\n",
        "#Memprediksi model menggunakan data uji\n",
        "knn_y_pred = knn_best_model.predict(X_test)\n",
        "\n",
        "print(\"=== Evaluasi K-Nearest Neighbors (KNN) ===\")\n",
        "print(\"Akurasi KNN:\", accuracy_score(y_test, knn_y_pred))\n",
        "print(\"Laporan Klasifikasi KNN:\")\n",
        "print(classification_report(y_test, knn_y_pred))\n",
        "print(\"Confusion Matrix KNN:\")\n",
        "print(confusion_matrix(y_test, knn_y_pred))\n",
        "\n",
        "print(\"\\n\" + \"=\"*50 + \"\\n\")\n",
        "\n",
        "#==========Evaluasi Decision Tree\n",
        "\n",
        "#Menerapkan parameter terbaik\n",
        "dt_best_model = DecisionTreeClassifier(\n",
        "    criterion='gini',\n",
        "    max_depth=10,\n",
        "    min_samples_leaf=1,\n",
        "    min_samples_split=5,\n",
        "    random_state=42\n",
        ")\n",
        "\n",
        "#Melatih model menggunakan data latih\n",
        "dt_best_model.fit(X_train, y_train)\n",
        "#Memprediksi model menggunakan data uji\n",
        "dt_y_pred = dt_best_model.predict(X_test)\n",
        "\n",
        "#Mengevaluasi setiap model\n",
        "print(\"=== Evaluasi Decision Tree ===\")\n",
        "print(\"Akurasi Decision Tree:\", accuracy_score(y_test, dt_y_pred))\n",
        "print(\"Laporan Klasifikasi Decision Tree:\")\n",
        "print(classification_report(y_test, dt_y_pred))\n",
        "print(\"Confusion Matrix Decision Tree:\")\n",
        "print(confusion_matrix(y_test, dt_y_pred))\n",
        "\n",
        "print(\"\\n\" + \"=\"*50 + \"\\n\")\n"
      ],
      "metadata": {
        "id": "HTXZRvEeNMb1",
        "colab": {
          "base_uri": "https://localhost:8080/"
        },
        "outputId": "11f85265-3bf8-4949-839b-ba0d6c33cf7a"
      },
      "execution_count": 196,
      "outputs": [
        {
          "output_type": "stream",
          "name": "stdout",
          "text": [
            "=== Evaluasi K-Nearest Neighbors (KNN) ===\n",
            "Akurasi KNN: 0.6428571428571429\n",
            "Laporan Klasifikasi KNN:\n",
            "              precision    recall  f1-score   support\n",
            "\n",
            "           0       0.64      0.65      0.64       464\n",
            "           1       0.92      0.87      0.89       157\n",
            "           2       0.42      0.42      0.42       289\n",
            "           3       0.83      0.89      0.86       112\n",
            "\n",
            "    accuracy                           0.64      1022\n",
            "   macro avg       0.70      0.71      0.70      1022\n",
            "weighted avg       0.64      0.64      0.64      1022\n",
            "\n",
            "Confusion Matrix KNN:\n",
            "[[301   0 163   0]\n",
            " [  0 136   0  21]\n",
            " [169   0 120   0]\n",
            " [  0  12   0 100]]\n",
            "\n",
            "==================================================\n",
            "\n",
            "=== Evaluasi Decision Tree ===\n",
            "Akurasi Decision Tree: 0.6839530332681018\n",
            "Laporan Klasifikasi Decision Tree:\n",
            "              precision    recall  f1-score   support\n",
            "\n",
            "           0       0.62      0.99      0.76       464\n",
            "           1       0.92      0.87      0.89       157\n",
            "           2       0.45      0.02      0.03       289\n",
            "           3       0.83      0.89      0.86       112\n",
            "\n",
            "    accuracy                           0.68      1022\n",
            "   macro avg       0.70      0.69      0.64      1022\n",
            "weighted avg       0.64      0.68      0.59      1022\n",
            "\n",
            "Confusion Matrix Decision Tree:\n",
            "[[458   0   6   0]\n",
            " [  0 136   0  21]\n",
            " [284   0   5   0]\n",
            " [  0  12   0 100]]\n",
            "\n",
            "==================================================\n",
            "\n"
          ]
        }
      ]
    },
    {
      "cell_type": "markdown",
      "source": [
        "Pada tahap ini dilakukan proses evaluasi performa terhadap model **K-Nearest Neighbors (KNN)** dan **Decision Tree (DT)** menggunakan parameter terbaik yang diperoleh dari tuning hyperparameter sebelumnya.\n",
        "1. Untuk model **KNN**, Model dilatih menggunakan data latih dengan parameter terbaik dari tuning, lalu diprediksi pada data uji (X_test). Hasil evaluasi menunjukkan akurasi sebesar **64.28%**, dengan F1-Score terbaik pada kelas mayoritas, yaitu kelas 0 (**0.64**) dan kelas 1 (**0.89**). Namun, performa model pada kelas minoritas, khususnya kelas 2, masih rendah dengan F1-Score hanya **0.42**, yang menunjukkan model kesulitan menangkap pola pada kelas tersebut.\n",
        "\n",
        "2. Untuk model **Decision Tree**, Model dilatih menggunakan data latih dengan parameter terbaik dari tuning, lalu diprediksi pada data uji (X_test), model mencatat akurasi sebesar **68.39%**, sedikit lebih tinggi dibandingkan KNN. Sama seperti KNN, performa terbaik dicatat pada kelas mayoritas dengan F1-Score kelas 0 (**0.76**) dan kelas 1 (**0.89**). Namun, model hampir gagal mengenali pola pada kelas 2, dengan F1-Score hanya sebesar **0.03**.\n",
        "\n"
      ],
      "metadata": {
        "id": "bC7baItDAajC"
      }
    },
    {
      "cell_type": "markdown",
      "source": [
        "## **e. Analisis Hasil Evaluasi Model Klasifikasi**"
      ],
      "metadata": {
        "id": "ZRsOdm4uEgAW"
      }
    },
    {
      "cell_type": "markdown",
      "source": [
        "Berikut adalah **rekomendasi** tahapannya.\n",
        "1. Bandingkan hasil evaluasi sebelum dan setelah tuning (jika dilakukan).\n",
        "2. Identifikasi kelemahan model, seperti:\n",
        "  - Precision atau Recall rendah untuk kelas tertentu.\n",
        "  - Apakah model mengalami overfitting atau underfitting?\n",
        "3. Berikan rekomendasi tindakan lanjutan, seperti mengumpulkan data tambahan atau mencoba algoritma lain jika hasil belum memuaskan."
      ],
      "metadata": {
        "id": "Hm3BhSi6N4_l"
      }
    },
    {
      "cell_type": "markdown",
      "source": [
        "**1. Perbandingan Hasil Evaluasi Sebelum dan Setelah tuning**\n",
        "\n",
        " 1. Evaluasi K-Nearest Neighbors (KNN)\n",
        "\n",
        "- **Sebelum Tuning**:\n",
        "  - **Akurasi**: **62.33%**\n",
        "  - **F1-Score Kelas 2**: **0.42**, menunjukkan model cukup kesulitan menangkap pola pada kelas minoritas.\n",
        "  - **Precision Kelas 0**: **0.63**, Recall kelas 0: **0.59**, menunjukkan performa moderat pada kelas mayoritas.\n",
        "  - **Performa stabil untuk kelas 3** dengan F1-Score **0.86**.\n",
        "\n",
        "- **Setelah Tuning**:\n",
        "  - **Akurasi**: **64.29%** (mengalami peningkatan).\n",
        "  - **F1-Score Kelas 2**: Tetap di **0.42**, menunjukkan tuning belum memperbaiki performa pada kelas minoritas.\n",
        "  - Performa untuk kelas mayoritas seperti kelas 0 sedikit membaik, dengan F1-Score **0.64** dan Recall meningkat menjadi **0.65**.\n",
        "  - **Precision** dan **Recall** untuk kelas 3 tetap kuat, menghasilkan F1-Score yang stabil di **0.86**.\n",
        "\n",
        "- **Kesimpulan KNN**:\n",
        "  Tuning memberikan peningkatan akurasi keseluruhan dengan perbaikan pada kelas mayoritas (kelas 0), namun tidak mampu meningkatkan performa pada kelas minoritas (kelas 2).\n",
        "\n",
        "---\n",
        "\n",
        "2. Evaluasi Decision Tree\n",
        "\n",
        "- **Sebelum Tuning**:\n",
        "  - **Akurasi**: **68.39%**\n",
        "  - **F1-Score Kelas 2**: **0.03**, menunjukkan model sangat kesulitan mengenali pola pada kelas ini.\n",
        "  - **F1-Score Kelas 0**: **0.76**, menunjukkan performa sangat baik pada kelas mayoritas.\n",
        "  - **F1-Score Kelas 3**: **0.86**, menunjukkan prediksi yang kuat untuk kelas ini.\n",
        "\n",
        "- **Setelah Tuning**:\n",
        "  - **Akurasi**: Tetap di **68.39%** (tidak ada peningkatan).\n",
        "  - **F1-Score Kelas 2**: Tetap di **0.03**, menunjukkan tuning tidak memberikan dampak pada kelas minoritas.\n",
        "  - Performa pada kelas mayoritas seperti kelas 0 dan kelas 3 tetap stabil, dengan F1-Score masing-masing **0.76** dan **0.86**.\n",
        "\n",
        "- **Kesimpulan Decision Tree**:\n",
        "  Tuning tidak memberikan dampak pada performa model, baik untuk akurasi keseluruhan maupun prediksi pada kelas minoritas. Performa pada kelas mayoritas tetap konsisten.\n",
        "\n",
        "---\n",
        "\n",
        "**2. Identifikasi Kelemahan Model**\n",
        "1. **Kelas Minoritas (Kelas 2)**:\n",
        "   - Kedua model masih menunjukkan kelemahan pada kelas minoritas, dengan F1-Score untuk kelas 2 tetap rendah (**0.27–0.38**) meskipun tuning dilakukan.\n",
        "\n",
        "2. **Overfitting atau Underfitting**:\n",
        "   - Tidak ada indikasi overfitting yang kuat setelah tuning. Namun, penurunan performa pada KNN setelah tuning dapat menunjukkan underfitting karena parameter mungkin terlalu sederhana untuk menangkap pola kompleks.\n",
        "\n",
        "3. **Ketergantungan pada Kelas Mayoritas**:\n",
        "   - Kedua model bekerja dengan baik pada kelas mayoritas seperti kelas 0 dan 3, namun masih gagal menangkap pola yang cukup pada kelas dengan jumlah data lebih sedikit.\n",
        "\n",
        "---\n",
        "\n",
        "**3. Rekomendasi Tindakan Lanjutan**\n",
        "1. Eksperimen menggunakan model dengan fleksibilitas lebih tinggi seperti XGBoost untuk mengatasi kelemahan pada kelas minoritas.\n",
        "\n",
        "2.  Jika memungkinkan, menamambahkan data baru untuk kelas yang kurang terwakili agar distribusi lebih seimbang.\n",
        "\n",
        "3. Memperbanyak parameter tuning. Untuk KNN, coba range lebih luas untuk n_neighbors, hingga nilai seperti 15–20. Untuk Decision Tree, tambahkan opsi min_impurity_decrease atau max_features untuk regulasi tambahan.\n"
      ],
      "metadata": {
        "id": "NfCITOfKAd4n"
      }
    }
  ]
}